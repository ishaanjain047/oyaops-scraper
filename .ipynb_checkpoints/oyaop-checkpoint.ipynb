{
 "cells": [
  {
   "cell_type": "code",
   "execution_count": 39,
   "id": "9b3738e0",
   "metadata": {
    "scrolled": false
   },
   "outputs": [
    {
     "name": "stderr",
     "output_type": "stream",
     "text": [
      "C:\\Users\\Public\\Documents\\Wondershare\\CreatorTemp\\ipykernel_9816\\2103463881.py:20: DeprecationWarning: executable_path has been deprecated, please pass in a Service object\n",
      "  driver = webdriver.Chrome(path)\n"
     ]
    },
    {
     "name": "stdout",
     "output_type": "stream",
     "text": [
      "data[i] is  ['Paid Internship Opportunities In the USA for Master’s Students', 'Internships', 'Ongoing', 'USA', 'All Nationalities']\n",
      "data is  [['Paid Internship Opportunities In the USA for Master’s Students', 'Internships', 'Ongoing', 'USA', 'All Nationalities'], ['Apply Now To Be UN Strategic & External Affairs Advisor 2023'], ['FAOU Spring Internship Program 2023 | Funded'], ['List of Internships in Japan for International Students'], ['2023 United Nations Internship in USA'], ['Moniepoint Tech Internship 2023 | Paid'], ['Wilson Center’s Middle East Program Internship 2023'], ['Paid Internships in Spain 2023 || Apply Now'], ['List of Paid Internships at Facebook'], ['List of Paid Internships at Amazon || Apply Now'], ['List of Paid Internships in Google'], ['Top 20 Paid Internships in Canada || Apply Now'], ['African Union Internship Program 2023 | Paid']]\n",
      "data[i] is  ['Apply Now To Be UN Strategic & External Affairs Advisor 2023', 'Internships', '23 March,2023', 'UK', 'All', 'UN']\n",
      "data is  [['Paid Internship Opportunities In the USA for Master’s Students', 'Internships', 'Ongoing', 'USA', 'All Nationalities'], ['Apply Now To Be UN Strategic & External Affairs Advisor 2023', 'Internships', '23 March,2023', 'UK', 'All', 'UN'], ['FAOU Spring Internship Program 2023 | Funded'], ['List of Internships in Japan for International Students'], ['2023 United Nations Internship in USA'], ['Moniepoint Tech Internship 2023 | Paid'], ['Wilson Center’s Middle East Program Internship 2023'], ['Paid Internships in Spain 2023 || Apply Now'], ['List of Paid Internships at Facebook'], ['List of Paid Internships at Amazon || Apply Now'], ['List of Paid Internships in Google'], ['Top 20 Paid Internships in Canada || Apply Now'], ['African Union Internship Program 2023 | Paid']]\n",
      "data[i] is  ['FAOU Spring Internship Program 2023 | Funded', 'Internships', '30 March,2023', 'Estonia', 'All', 'Fatima Al-Fihri Open University', 'contact@alfihri.org']\n",
      "data is  [['Paid Internship Opportunities In the USA for Master’s Students', 'Internships', 'Ongoing', 'USA', 'All Nationalities'], ['Apply Now To Be UN Strategic & External Affairs Advisor 2023', 'Internships', '23 March,2023', 'UK', 'All', 'UN'], ['FAOU Spring Internship Program 2023 | Funded', 'Internships', '30 March,2023', 'Estonia', 'All', 'Fatima Al-Fihri Open University', 'contact@alfihri.org'], ['List of Internships in Japan for International Students'], ['2023 United Nations Internship in USA'], ['Moniepoint Tech Internship 2023 | Paid'], ['Wilson Center’s Middle East Program Internship 2023'], ['Paid Internships in Spain 2023 || Apply Now'], ['List of Paid Internships at Facebook'], ['List of Paid Internships at Amazon || Apply Now'], ['List of Paid Internships in Google'], ['Top 20 Paid Internships in Canada || Apply Now'], ['African Union Internship Program 2023 | Paid']]\n",
      "data[i] is  ['List of Internships in Japan for International Students', 'Internships', 'Ongoing', 'Japan', 'All Nationalities']\n",
      "data is  [['Paid Internship Opportunities In the USA for Master’s Students', 'Internships', 'Ongoing', 'USA', 'All Nationalities'], ['Apply Now To Be UN Strategic & External Affairs Advisor 2023', 'Internships', '23 March,2023', 'UK', 'All', 'UN'], ['FAOU Spring Internship Program 2023 | Funded', 'Internships', '30 March,2023', 'Estonia', 'All', 'Fatima Al-Fihri Open University', 'contact@alfihri.org'], ['List of Internships in Japan for International Students', 'Internships', 'Ongoing', 'Japan', 'All Nationalities'], ['2023 United Nations Internship in USA'], ['Moniepoint Tech Internship 2023 | Paid'], ['Wilson Center’s Middle East Program Internship 2023'], ['Paid Internships in Spain 2023 || Apply Now'], ['List of Paid Internships at Facebook'], ['List of Paid Internships at Amazon || Apply Now'], ['List of Paid Internships in Google'], ['Top 20 Paid Internships in Canada || Apply Now'], ['African Union Internship Program 2023 | Paid']]\n",
      "data[i] is  ['2023 United Nations Internship in USA', 'Internships', '16 April,2023', 'USA', 'All Nationalities', 'UNited Nations']\n",
      "data is  [['Paid Internship Opportunities In the USA for Master’s Students', 'Internships', 'Ongoing', 'USA', 'All Nationalities'], ['Apply Now To Be UN Strategic & External Affairs Advisor 2023', 'Internships', '23 March,2023', 'UK', 'All', 'UN'], ['FAOU Spring Internship Program 2023 | Funded', 'Internships', '30 March,2023', 'Estonia', 'All', 'Fatima Al-Fihri Open University', 'contact@alfihri.org'], ['List of Internships in Japan for International Students', 'Internships', 'Ongoing', 'Japan', 'All Nationalities'], ['2023 United Nations Internship in USA', 'Internships', '16 April,2023', 'USA', 'All Nationalities', 'UNited Nations'], ['Moniepoint Tech Internship 2023 | Paid'], ['Wilson Center’s Middle East Program Internship 2023'], ['Paid Internships in Spain 2023 || Apply Now'], ['List of Paid Internships at Facebook'], ['List of Paid Internships at Amazon || Apply Now'], ['List of Paid Internships in Google'], ['Top 20 Paid Internships in Canada || Apply Now'], ['African Union Internship Program 2023 | Paid']]\n",
      "data[i] is  ['Moniepoint Tech Internship 2023 | Paid', 'Internships', '14 March,2023', 'Africa', 'All', 'Moniepoint']\n",
      "data is  [['Paid Internship Opportunities In the USA for Master’s Students', 'Internships', 'Ongoing', 'USA', 'All Nationalities'], ['Apply Now To Be UN Strategic & External Affairs Advisor 2023', 'Internships', '23 March,2023', 'UK', 'All', 'UN'], ['FAOU Spring Internship Program 2023 | Funded', 'Internships', '30 March,2023', 'Estonia', 'All', 'Fatima Al-Fihri Open University', 'contact@alfihri.org'], ['List of Internships in Japan for International Students', 'Internships', 'Ongoing', 'Japan', 'All Nationalities'], ['2023 United Nations Internship in USA', 'Internships', '16 April,2023', 'USA', 'All Nationalities', 'UNited Nations'], ['Moniepoint Tech Internship 2023 | Paid', 'Internships', '14 March,2023', 'Africa', 'All', 'Moniepoint'], ['Wilson Center’s Middle East Program Internship 2023'], ['Paid Internships in Spain 2023 || Apply Now'], ['List of Paid Internships at Facebook'], ['List of Paid Internships at Amazon || Apply Now'], ['List of Paid Internships in Google'], ['Top 20 Paid Internships in Canada || Apply Now'], ['African Union Internship Program 2023 | Paid']]\n",
      "data[i] is  ['Wilson Center’s Middle East Program Internship 2023', 'Internships', '15 March,2023', 'USA', 'All', 'Wilson Center', 'mep@wilsoncenter.org']\n",
      "data is  [['Paid Internship Opportunities In the USA for Master’s Students', 'Internships', 'Ongoing', 'USA', 'All Nationalities'], ['Apply Now To Be UN Strategic & External Affairs Advisor 2023', 'Internships', '23 March,2023', 'UK', 'All', 'UN'], ['FAOU Spring Internship Program 2023 | Funded', 'Internships', '30 March,2023', 'Estonia', 'All', 'Fatima Al-Fihri Open University', 'contact@alfihri.org'], ['List of Internships in Japan for International Students', 'Internships', 'Ongoing', 'Japan', 'All Nationalities'], ['2023 United Nations Internship in USA', 'Internships', '16 April,2023', 'USA', 'All Nationalities', 'UNited Nations'], ['Moniepoint Tech Internship 2023 | Paid', 'Internships', '14 March,2023', 'Africa', 'All', 'Moniepoint'], ['Wilson Center’s Middle East Program Internship 2023', 'Internships', '15 March,2023', 'USA', 'All', 'Wilson Center', 'mep@wilsoncenter.org'], ['Paid Internships in Spain 2023 || Apply Now'], ['List of Paid Internships at Facebook'], ['List of Paid Internships at Amazon || Apply Now'], ['List of Paid Internships in Google'], ['Top 20 Paid Internships in Canada || Apply Now'], ['African Union Internship Program 2023 | Paid']]\n",
      "data[i] is  ['Paid Internships in Spain 2023 || Apply Now', 'Internships', 'Ongoing', 'Spain', 'All Nationalities']\n",
      "data is  [['Paid Internship Opportunities In the USA for Master’s Students', 'Internships', 'Ongoing', 'USA', 'All Nationalities'], ['Apply Now To Be UN Strategic & External Affairs Advisor 2023', 'Internships', '23 March,2023', 'UK', 'All', 'UN'], ['FAOU Spring Internship Program 2023 | Funded', 'Internships', '30 March,2023', 'Estonia', 'All', 'Fatima Al-Fihri Open University', 'contact@alfihri.org'], ['List of Internships in Japan for International Students', 'Internships', 'Ongoing', 'Japan', 'All Nationalities'], ['2023 United Nations Internship in USA', 'Internships', '16 April,2023', 'USA', 'All Nationalities', 'UNited Nations'], ['Moniepoint Tech Internship 2023 | Paid', 'Internships', '14 March,2023', 'Africa', 'All', 'Moniepoint'], ['Wilson Center’s Middle East Program Internship 2023', 'Internships', '15 March,2023', 'USA', 'All', 'Wilson Center', 'mep@wilsoncenter.org'], ['Paid Internships in Spain 2023 || Apply Now', 'Internships', 'Ongoing', 'Spain', 'All Nationalities'], ['List of Paid Internships at Facebook'], ['List of Paid Internships at Amazon || Apply Now'], ['List of Paid Internships in Google'], ['Top 20 Paid Internships in Canada || Apply Now'], ['African Union Internship Program 2023 | Paid']]\n"
     ]
    },
    {
     "name": "stdout",
     "output_type": "stream",
     "text": [
      "data[i] is  ['List of Paid Internships at Facebook', 'Internships', 'USA', 'All Nationalities']\n",
      "data is  [['Paid Internship Opportunities In the USA for Master’s Students', 'Internships', 'Ongoing', 'USA', 'All Nationalities'], ['Apply Now To Be UN Strategic & External Affairs Advisor 2023', 'Internships', '23 March,2023', 'UK', 'All', 'UN'], ['FAOU Spring Internship Program 2023 | Funded', 'Internships', '30 March,2023', 'Estonia', 'All', 'Fatima Al-Fihri Open University', 'contact@alfihri.org'], ['List of Internships in Japan for International Students', 'Internships', 'Ongoing', 'Japan', 'All Nationalities'], ['2023 United Nations Internship in USA', 'Internships', '16 April,2023', 'USA', 'All Nationalities', 'UNited Nations'], ['Moniepoint Tech Internship 2023 | Paid', 'Internships', '14 March,2023', 'Africa', 'All', 'Moniepoint'], ['Wilson Center’s Middle East Program Internship 2023', 'Internships', '15 March,2023', 'USA', 'All', 'Wilson Center', 'mep@wilsoncenter.org'], ['Paid Internships in Spain 2023 || Apply Now', 'Internships', 'Ongoing', 'Spain', 'All Nationalities'], ['List of Paid Internships at Facebook', 'Internships', 'USA', 'All Nationalities'], ['List of Paid Internships at Amazon || Apply Now'], ['List of Paid Internships in Google'], ['Top 20 Paid Internships in Canada || Apply Now'], ['African Union Internship Program 2023 | Paid']]\n",
      "data[i] is  ['List of Paid Internships at Amazon || Apply Now', 'Internships', 'Ongoing', 'USA', 'All Nationalities']\n",
      "data is  [['Paid Internship Opportunities In the USA for Master’s Students', 'Internships', 'Ongoing', 'USA', 'All Nationalities'], ['Apply Now To Be UN Strategic & External Affairs Advisor 2023', 'Internships', '23 March,2023', 'UK', 'All', 'UN'], ['FAOU Spring Internship Program 2023 | Funded', 'Internships', '30 March,2023', 'Estonia', 'All', 'Fatima Al-Fihri Open University', 'contact@alfihri.org'], ['List of Internships in Japan for International Students', 'Internships', 'Ongoing', 'Japan', 'All Nationalities'], ['2023 United Nations Internship in USA', 'Internships', '16 April,2023', 'USA', 'All Nationalities', 'UNited Nations'], ['Moniepoint Tech Internship 2023 | Paid', 'Internships', '14 March,2023', 'Africa', 'All', 'Moniepoint'], ['Wilson Center’s Middle East Program Internship 2023', 'Internships', '15 March,2023', 'USA', 'All', 'Wilson Center', 'mep@wilsoncenter.org'], ['Paid Internships in Spain 2023 || Apply Now', 'Internships', 'Ongoing', 'Spain', 'All Nationalities'], ['List of Paid Internships at Facebook', 'Internships', 'USA', 'All Nationalities'], ['List of Paid Internships at Amazon || Apply Now', 'Internships', 'Ongoing', 'USA', 'All Nationalities'], ['List of Paid Internships in Google'], ['Top 20 Paid Internships in Canada || Apply Now'], ['African Union Internship Program 2023 | Paid']]\n",
      "data[i] is  ['List of Paid Internships in Google', 'Internships', 'Ongoing', 'USA', 'All Nationalities', 'Google']\n",
      "data is  [['Paid Internship Opportunities In the USA for Master’s Students', 'Internships', 'Ongoing', 'USA', 'All Nationalities'], ['Apply Now To Be UN Strategic & External Affairs Advisor 2023', 'Internships', '23 March,2023', 'UK', 'All', 'UN'], ['FAOU Spring Internship Program 2023 | Funded', 'Internships', '30 March,2023', 'Estonia', 'All', 'Fatima Al-Fihri Open University', 'contact@alfihri.org'], ['List of Internships in Japan for International Students', 'Internships', 'Ongoing', 'Japan', 'All Nationalities'], ['2023 United Nations Internship in USA', 'Internships', '16 April,2023', 'USA', 'All Nationalities', 'UNited Nations'], ['Moniepoint Tech Internship 2023 | Paid', 'Internships', '14 March,2023', 'Africa', 'All', 'Moniepoint'], ['Wilson Center’s Middle East Program Internship 2023', 'Internships', '15 March,2023', 'USA', 'All', 'Wilson Center', 'mep@wilsoncenter.org'], ['Paid Internships in Spain 2023 || Apply Now', 'Internships', 'Ongoing', 'Spain', 'All Nationalities'], ['List of Paid Internships at Facebook', 'Internships', 'USA', 'All Nationalities'], ['List of Paid Internships at Amazon || Apply Now', 'Internships', 'Ongoing', 'USA', 'All Nationalities'], ['List of Paid Internships in Google', 'Internships', 'Ongoing', 'USA', 'All Nationalities', 'Google'], ['Top 20 Paid Internships in Canada || Apply Now'], ['African Union Internship Program 2023 | Paid']]\n",
      "data[i] is  ['Top 20 Paid Internships in Canada || Apply Now', 'Internships', 'Ongoing', 'Canada', 'All Nationalities']\n",
      "data is  [['Paid Internship Opportunities In the USA for Master’s Students', 'Internships', 'Ongoing', 'USA', 'All Nationalities'], ['Apply Now To Be UN Strategic & External Affairs Advisor 2023', 'Internships', '23 March,2023', 'UK', 'All', 'UN'], ['FAOU Spring Internship Program 2023 | Funded', 'Internships', '30 March,2023', 'Estonia', 'All', 'Fatima Al-Fihri Open University', 'contact@alfihri.org'], ['List of Internships in Japan for International Students', 'Internships', 'Ongoing', 'Japan', 'All Nationalities'], ['2023 United Nations Internship in USA', 'Internships', '16 April,2023', 'USA', 'All Nationalities', 'UNited Nations'], ['Moniepoint Tech Internship 2023 | Paid', 'Internships', '14 March,2023', 'Africa', 'All', 'Moniepoint'], ['Wilson Center’s Middle East Program Internship 2023', 'Internships', '15 March,2023', 'USA', 'All', 'Wilson Center', 'mep@wilsoncenter.org'], ['Paid Internships in Spain 2023 || Apply Now', 'Internships', 'Ongoing', 'Spain', 'All Nationalities'], ['List of Paid Internships at Facebook', 'Internships', 'USA', 'All Nationalities'], ['List of Paid Internships at Amazon || Apply Now', 'Internships', 'Ongoing', 'USA', 'All Nationalities'], ['List of Paid Internships in Google', 'Internships', 'Ongoing', 'USA', 'All Nationalities', 'Google'], ['Top 20 Paid Internships in Canada || Apply Now', 'Internships', 'Ongoing', 'Canada', 'All Nationalities'], ['African Union Internship Program 2023 | Paid']]\n",
      "data[i] is  ['African Union Internship Program 2023 | Paid', 'Internships', '30 June,2023', 'Africa', 'All', 'Africa Union', 'Internship@africa-union.org']\n",
      "data is  [['Paid Internship Opportunities In the USA for Master’s Students', 'Internships', 'Ongoing', 'USA', 'All Nationalities'], ['Apply Now To Be UN Strategic & External Affairs Advisor 2023', 'Internships', '23 March,2023', 'UK', 'All', 'UN'], ['FAOU Spring Internship Program 2023 | Funded', 'Internships', '30 March,2023', 'Estonia', 'All', 'Fatima Al-Fihri Open University', 'contact@alfihri.org'], ['List of Internships in Japan for International Students', 'Internships', 'Ongoing', 'Japan', 'All Nationalities'], ['2023 United Nations Internship in USA', 'Internships', '16 April,2023', 'USA', 'All Nationalities', 'UNited Nations'], ['Moniepoint Tech Internship 2023 | Paid', 'Internships', '14 March,2023', 'Africa', 'All', 'Moniepoint'], ['Wilson Center’s Middle East Program Internship 2023', 'Internships', '15 March,2023', 'USA', 'All', 'Wilson Center', 'mep@wilsoncenter.org'], ['Paid Internships in Spain 2023 || Apply Now', 'Internships', 'Ongoing', 'Spain', 'All Nationalities'], ['List of Paid Internships at Facebook', 'Internships', 'USA', 'All Nationalities'], ['List of Paid Internships at Amazon || Apply Now', 'Internships', 'Ongoing', 'USA', 'All Nationalities'], ['List of Paid Internships in Google', 'Internships', 'Ongoing', 'USA', 'All Nationalities', 'Google'], ['Top 20 Paid Internships in Canada || Apply Now', 'Internships', 'Ongoing', 'Canada', 'All Nationalities'], ['African Union Internship Program 2023 | Paid', 'Internships', '30 June,2023', 'Africa', 'All', 'Africa Union', 'Internship@africa-union.org']]\n"
     ]
    }
   ],
   "source": [
    "from selenium import webdriver\n",
    "from selenium.webdriver.support.ui import Select\n",
    "from selenium.webdriver.common.by import By\n",
    "import pandas as pd\n",
    "import time\n",
    "from selenium.webdriver.support.wait import WebDriverWait\n",
    "from selenium.webdriver.support import expected_conditions as EC\n",
    "from bs4 import BeautifulSoup\n",
    "from csv import writer\n",
    "\n",
    "\n",
    "# Topics: Locate a button, select element within dropdown and extract data from a table\n",
    "\n",
    "# define the website to scrape and path where the chromediver is located\n",
    "website = 'https://oyaop.com/?s=&opp=Internships&ven=&submit=Search'\n",
    "\n",
    "# write the path here\n",
    "path = r\"C:\\Users\\ishaa\\Downloads\\chromedriver_win32\\chromedriver.exe\" \n",
    "# define 'driver' variable\n",
    "driver = webdriver.Chrome(path)\n",
    "wait = WebDriverWait(driver, 10)\n",
    "# open Google Chrome with chromedriver\n",
    "driver.get(website)\n",
    "\n",
    "\n",
    "#store all the links in a list\n",
    "item_links = [item.get_attribute(\"href\") for item in wait.until(EC.presence_of_all_elements_located((By.XPATH,'/html/body/section/div/div/div/div/div/div/div/div/a')))]\n",
    "\n",
    "opp_names = wait.until(EC.presence_of_all_elements_located((By.XPATH,'/html/body/section/div/div/div/div/div/div/div/article/div/a/h5')))\n",
    "# print(opp_names)\n",
    "# print(opp_names[0])\n",
    "# print(opp_names[0].text)\n",
    "data = []\n",
    "for opp_name in opp_names:\n",
    "    name = opp_name.text\n",
    "    row=[name]\n",
    "    data.append(row)\n",
    "#     print(name)\n",
    "i=0;\n",
    "\n",
    "with open('internships.csv', 'w', newline='', encoding = 'utf8') as f:\n",
    "    thewriter = writer(f)\n",
    "    header = ['Title','Type','Deadline','Region','Open To','Contact US']\n",
    "    thewriter.writerow(header)\n",
    "    for item_link in item_links:    \n",
    "#         print(item_link)\n",
    "        driver.get(item_link)\n",
    "        try:\n",
    "            tbody = WebDriverWait(driver, 10).until(\n",
    "                EC.presence_of_element_located((By.XPATH, '/html/body/section[2]/div/div[1]/div/div[4]/div[2]/table')))\n",
    "            for tr in tbody.find_elements(By.XPATH,'//tr'):\n",
    "    #             row=[item.text for item in tr.find_elements(By.XPATH,'.//td')]\n",
    "                for item in tr.find_elements(By.XPATH,'.//td'):\n",
    "                    field = item.text\n",
    "                    data[i].append(field)\n",
    "            print(\"data[i] is \",data[i])\n",
    "            thewriter.writerow(data[i])       \n",
    "            print(\"data is \",data)\n",
    "        except:\n",
    "            driver.quit()\n",
    "        i = i+1\n",
    "\n",
    "driver.quit()"
   ]
  },
  {
   "cell_type": "code",
   "execution_count": null,
   "id": "37448055",
   "metadata": {},
   "outputs": [],
   "source": []
  },
  {
   "cell_type": "code",
   "execution_count": null,
   "id": "5f814ab8",
   "metadata": {},
   "outputs": [],
   "source": []
  },
  {
   "cell_type": "code",
   "execution_count": null,
   "id": "d8a7be4e",
   "metadata": {},
   "outputs": [],
   "source": []
  },
  {
   "cell_type": "code",
   "execution_count": null,
   "id": "a38c0ee4",
   "metadata": {},
   "outputs": [],
   "source": []
  }
 ],
 "metadata": {
  "kernelspec": {
   "display_name": "Python 3 (ipykernel)",
   "language": "python",
   "name": "python3"
  },
  "language_info": {
   "codemirror_mode": {
    "name": "ipython",
    "version": 3
   },
   "file_extension": ".py",
   "mimetype": "text/x-python",
   "name": "python",
   "nbconvert_exporter": "python",
   "pygments_lexer": "ipython3",
   "version": "3.11.2"
  }
 },
 "nbformat": 4,
 "nbformat_minor": 5
}
