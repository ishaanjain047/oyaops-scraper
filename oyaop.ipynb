{
 "cells": [
  {
   "cell_type": "code",
   "execution_count": 41,
   "id": "9b3738e0",
   "metadata": {
    "scrolled": false
   },
   "outputs": [
    {
     "name": "stderr",
     "output_type": "stream",
     "text": [
      "C:\\Users\\Public\\Documents\\Wondershare\\CreatorTemp\\ipykernel_9816\\3931651364.py:21: DeprecationWarning: executable_path has been deprecated, please pass in a Service object\n",
      "  driver = webdriver.Chrome(path)\n"
     ]
    },
    {
     "name": "stdout",
     "output_type": "stream",
     "text": [
      "data[i] is  ['How to Get Permanent Residency in Denmark?', 'Exchange Programs', 'Ongoing', 'Denmark', 'All Nationalities']\n",
      "data is  [['How to Get Permanent Residency in Denmark?', 'Exchange Programs', 'Ongoing', 'Denmark', 'All Nationalities'], ['How to get Australian Permanent Residency?'], ['How to Get Canadian Permanent Resident?'], ['European Union Exchange Programs for Students 2023'], ['Apply Now || Explore Inspiring Career Paths 2023'], ['Apply Now: NIMHD Health Disparities Research Institute 2023'], ['List of European Union Exchange Program for Student'], ['Discover the Top 20 Exchange Programs in Europe for a Transformative Study Abroad Experience'], ['How to Apply US Green Card 2023'], ['AIMS AI for Science Master’s Program 2023 | Fully Funded'], ['Swedish Institute Creative Partnerships Program 2023 | Funded'], ['UNAOC Young Peacebuilders Program 2023 | Funded'], ['Call for Applications – The 30th Eco-generation Regional Ambassadors 2023']]\n",
      "data[i] is  ['How to get Australian Permanent Residency?', 'Exchange Programs', 'Ongoing', 'Australia', 'All Nationalities']\n",
      "data is  [['How to Get Permanent Residency in Denmark?', 'Exchange Programs', 'Ongoing', 'Denmark', 'All Nationalities'], ['How to get Australian Permanent Residency?', 'Exchange Programs', 'Ongoing', 'Australia', 'All Nationalities'], ['How to Get Canadian Permanent Resident?'], ['European Union Exchange Programs for Students 2023'], ['Apply Now || Explore Inspiring Career Paths 2023'], ['Apply Now: NIMHD Health Disparities Research Institute 2023'], ['List of European Union Exchange Program for Student'], ['Discover the Top 20 Exchange Programs in Europe for a Transformative Study Abroad Experience'], ['How to Apply US Green Card 2023'], ['AIMS AI for Science Master’s Program 2023 | Fully Funded'], ['Swedish Institute Creative Partnerships Program 2023 | Funded'], ['UNAOC Young Peacebuilders Program 2023 | Funded'], ['Call for Applications – The 30th Eco-generation Regional Ambassadors 2023']]\n",
      "data[i] is  ['How to Get Canadian Permanent Resident?', 'Exchange Programs', 'Ongoing', 'Canada', 'All Nationalities']\n",
      "data is  [['How to Get Permanent Residency in Denmark?', 'Exchange Programs', 'Ongoing', 'Denmark', 'All Nationalities'], ['How to get Australian Permanent Residency?', 'Exchange Programs', 'Ongoing', 'Australia', 'All Nationalities'], ['How to Get Canadian Permanent Resident?', 'Exchange Programs', 'Ongoing', 'Canada', 'All Nationalities'], ['European Union Exchange Programs for Students 2023'], ['Apply Now || Explore Inspiring Career Paths 2023'], ['Apply Now: NIMHD Health Disparities Research Institute 2023'], ['List of European Union Exchange Program for Student'], ['Discover the Top 20 Exchange Programs in Europe for a Transformative Study Abroad Experience'], ['How to Apply US Green Card 2023'], ['AIMS AI for Science Master’s Program 2023 | Fully Funded'], ['Swedish Institute Creative Partnerships Program 2023 | Funded'], ['UNAOC Young Peacebuilders Program 2023 | Funded'], ['Call for Applications – The 30th Eco-generation Regional Ambassadors 2023']]\n",
      "data[i] is  ['European Union Exchange Programs for Students 2023', 'Exchange Programs', 'Ongoing', 'All Nationalities', 'European Union']\n",
      "data is  [['How to Get Permanent Residency in Denmark?', 'Exchange Programs', 'Ongoing', 'Denmark', 'All Nationalities'], ['How to get Australian Permanent Residency?', 'Exchange Programs', 'Ongoing', 'Australia', 'All Nationalities'], ['How to Get Canadian Permanent Resident?', 'Exchange Programs', 'Ongoing', 'Canada', 'All Nationalities'], ['European Union Exchange Programs for Students 2023', 'Exchange Programs', 'Ongoing', 'All Nationalities', 'European Union'], ['Apply Now || Explore Inspiring Career Paths 2023'], ['Apply Now: NIMHD Health Disparities Research Institute 2023'], ['List of European Union Exchange Program for Student'], ['Discover the Top 20 Exchange Programs in Europe for a Transformative Study Abroad Experience'], ['How to Apply US Green Card 2023'], ['AIMS AI for Science Master’s Program 2023 | Fully Funded'], ['Swedish Institute Creative Partnerships Program 2023 | Funded'], ['UNAOC Young Peacebuilders Program 2023 | Funded'], ['Call for Applications – The 30th Eco-generation Regional Ambassadors 2023']]\n",
      "data[i] is  ['Apply Now || Explore Inspiring Career Paths 2023', 'Exchange Programs Miscellaneous', 'Ongoing', 'Hungary', 'All', 'CCG', 'info@careersinthecommongood.com']\n",
      "data is  [['How to Get Permanent Residency in Denmark?', 'Exchange Programs', 'Ongoing', 'Denmark', 'All Nationalities'], ['How to get Australian Permanent Residency?', 'Exchange Programs', 'Ongoing', 'Australia', 'All Nationalities'], ['How to Get Canadian Permanent Resident?', 'Exchange Programs', 'Ongoing', 'Canada', 'All Nationalities'], ['European Union Exchange Programs for Students 2023', 'Exchange Programs', 'Ongoing', 'All Nationalities', 'European Union'], ['Apply Now || Explore Inspiring Career Paths 2023', 'Exchange Programs Miscellaneous', 'Ongoing', 'Hungary', 'All', 'CCG', 'info@careersinthecommongood.com'], ['Apply Now: NIMHD Health Disparities Research Institute 2023'], ['List of European Union Exchange Program for Student'], ['Discover the Top 20 Exchange Programs in Europe for a Transformative Study Abroad Experience'], ['How to Apply US Green Card 2023'], ['AIMS AI for Science Master’s Program 2023 | Fully Funded'], ['Swedish Institute Creative Partnerships Program 2023 | Funded'], ['UNAOC Young Peacebuilders Program 2023 | Funded'], ['Call for Applications – The 30th Eco-generation Regional Ambassadors 2023']]\n",
      "data[i] is  ['Apply Now: NIMHD Health Disparities Research Institute 2023', 'Exchange Programs Miscellaneous', '13 March,2023', 'USA', 'All', 'NIMHD', 'HDRI@nih.gov']\n",
      "data is  [['How to Get Permanent Residency in Denmark?', 'Exchange Programs', 'Ongoing', 'Denmark', 'All Nationalities'], ['How to get Australian Permanent Residency?', 'Exchange Programs', 'Ongoing', 'Australia', 'All Nationalities'], ['How to Get Canadian Permanent Resident?', 'Exchange Programs', 'Ongoing', 'Canada', 'All Nationalities'], ['European Union Exchange Programs for Students 2023', 'Exchange Programs', 'Ongoing', 'All Nationalities', 'European Union'], ['Apply Now || Explore Inspiring Career Paths 2023', 'Exchange Programs Miscellaneous', 'Ongoing', 'Hungary', 'All', 'CCG', 'info@careersinthecommongood.com'], ['Apply Now: NIMHD Health Disparities Research Institute 2023', 'Exchange Programs Miscellaneous', '13 March,2023', 'USA', 'All', 'NIMHD', 'HDRI@nih.gov'], ['List of European Union Exchange Program for Student'], ['Discover the Top 20 Exchange Programs in Europe for a Transformative Study Abroad Experience'], ['How to Apply US Green Card 2023'], ['AIMS AI for Science Master’s Program 2023 | Fully Funded'], ['Swedish Institute Creative Partnerships Program 2023 | Funded'], ['UNAOC Young Peacebuilders Program 2023 | Funded'], ['Call for Applications – The 30th Eco-generation Regional Ambassadors 2023']]\n",
      "data[i] is  ['List of European Union Exchange Program for Student', 'Exchange Programs', 'Ongoing', 'All Nationalities', 'EU']\n",
      "data is  [['How to Get Permanent Residency in Denmark?', 'Exchange Programs', 'Ongoing', 'Denmark', 'All Nationalities'], ['How to get Australian Permanent Residency?', 'Exchange Programs', 'Ongoing', 'Australia', 'All Nationalities'], ['How to Get Canadian Permanent Resident?', 'Exchange Programs', 'Ongoing', 'Canada', 'All Nationalities'], ['European Union Exchange Programs for Students 2023', 'Exchange Programs', 'Ongoing', 'All Nationalities', 'European Union'], ['Apply Now || Explore Inspiring Career Paths 2023', 'Exchange Programs Miscellaneous', 'Ongoing', 'Hungary', 'All', 'CCG', 'info@careersinthecommongood.com'], ['Apply Now: NIMHD Health Disparities Research Institute 2023', 'Exchange Programs Miscellaneous', '13 March,2023', 'USA', 'All', 'NIMHD', 'HDRI@nih.gov'], ['List of European Union Exchange Program for Student', 'Exchange Programs', 'Ongoing', 'All Nationalities', 'EU'], ['Discover the Top 20 Exchange Programs in Europe for a Transformative Study Abroad Experience'], ['How to Apply US Green Card 2023'], ['AIMS AI for Science Master’s Program 2023 | Fully Funded'], ['Swedish Institute Creative Partnerships Program 2023 | Funded'], ['UNAOC Young Peacebuilders Program 2023 | Funded'], ['Call for Applications – The 30th Eco-generation Regional Ambassadors 2023']]\n"
     ]
    },
    {
     "name": "stdout",
     "output_type": "stream",
     "text": [
      "data[i] is  ['Discover the Top 20 Exchange Programs in Europe for a Transformative Study Abroad Experience', 'Exchange Programs', 'Ongoing', 'Europe', 'All Nationalities']\n",
      "data is  [['How to Get Permanent Residency in Denmark?', 'Exchange Programs', 'Ongoing', 'Denmark', 'All Nationalities'], ['How to get Australian Permanent Residency?', 'Exchange Programs', 'Ongoing', 'Australia', 'All Nationalities'], ['How to Get Canadian Permanent Resident?', 'Exchange Programs', 'Ongoing', 'Canada', 'All Nationalities'], ['European Union Exchange Programs for Students 2023', 'Exchange Programs', 'Ongoing', 'All Nationalities', 'European Union'], ['Apply Now || Explore Inspiring Career Paths 2023', 'Exchange Programs Miscellaneous', 'Ongoing', 'Hungary', 'All', 'CCG', 'info@careersinthecommongood.com'], ['Apply Now: NIMHD Health Disparities Research Institute 2023', 'Exchange Programs Miscellaneous', '13 March,2023', 'USA', 'All', 'NIMHD', 'HDRI@nih.gov'], ['List of European Union Exchange Program for Student', 'Exchange Programs', 'Ongoing', 'All Nationalities', 'EU'], ['Discover the Top 20 Exchange Programs in Europe for a Transformative Study Abroad Experience', 'Exchange Programs', 'Ongoing', 'Europe', 'All Nationalities'], ['How to Apply US Green Card 2023'], ['AIMS AI for Science Master’s Program 2023 | Fully Funded'], ['Swedish Institute Creative Partnerships Program 2023 | Funded'], ['UNAOC Young Peacebuilders Program 2023 | Funded'], ['Call for Applications – The 30th Eco-generation Regional Ambassadors 2023']]\n",
      "data[i] is  ['How to Apply US Green Card 2023', 'Exchange Programs', 'USA', 'All Nationalities']\n",
      "data is  [['How to Get Permanent Residency in Denmark?', 'Exchange Programs', 'Ongoing', 'Denmark', 'All Nationalities'], ['How to get Australian Permanent Residency?', 'Exchange Programs', 'Ongoing', 'Australia', 'All Nationalities'], ['How to Get Canadian Permanent Resident?', 'Exchange Programs', 'Ongoing', 'Canada', 'All Nationalities'], ['European Union Exchange Programs for Students 2023', 'Exchange Programs', 'Ongoing', 'All Nationalities', 'European Union'], ['Apply Now || Explore Inspiring Career Paths 2023', 'Exchange Programs Miscellaneous', 'Ongoing', 'Hungary', 'All', 'CCG', 'info@careersinthecommongood.com'], ['Apply Now: NIMHD Health Disparities Research Institute 2023', 'Exchange Programs Miscellaneous', '13 March,2023', 'USA', 'All', 'NIMHD', 'HDRI@nih.gov'], ['List of European Union Exchange Program for Student', 'Exchange Programs', 'Ongoing', 'All Nationalities', 'EU'], ['Discover the Top 20 Exchange Programs in Europe for a Transformative Study Abroad Experience', 'Exchange Programs', 'Ongoing', 'Europe', 'All Nationalities'], ['How to Apply US Green Card 2023', 'Exchange Programs', 'USA', 'All Nationalities'], ['AIMS AI for Science Master’s Program 2023 | Fully Funded'], ['Swedish Institute Creative Partnerships Program 2023 | Funded'], ['UNAOC Young Peacebuilders Program 2023 | Funded'], ['Call for Applications – The 30th Eco-generation Regional Ambassadors 2023']]\n",
      "data[i] is  ['AIMS AI for Science Master’s Program 2023 | Fully Funded', 'Entrepreneurship Events Exchange Programs', '08 April,2023', 'South Africa', 'All', 'AI For Science Masters']\n",
      "data is  [['How to Get Permanent Residency in Denmark?', 'Exchange Programs', 'Ongoing', 'Denmark', 'All Nationalities'], ['How to get Australian Permanent Residency?', 'Exchange Programs', 'Ongoing', 'Australia', 'All Nationalities'], ['How to Get Canadian Permanent Resident?', 'Exchange Programs', 'Ongoing', 'Canada', 'All Nationalities'], ['European Union Exchange Programs for Students 2023', 'Exchange Programs', 'Ongoing', 'All Nationalities', 'European Union'], ['Apply Now || Explore Inspiring Career Paths 2023', 'Exchange Programs Miscellaneous', 'Ongoing', 'Hungary', 'All', 'CCG', 'info@careersinthecommongood.com'], ['Apply Now: NIMHD Health Disparities Research Institute 2023', 'Exchange Programs Miscellaneous', '13 March,2023', 'USA', 'All', 'NIMHD', 'HDRI@nih.gov'], ['List of European Union Exchange Program for Student', 'Exchange Programs', 'Ongoing', 'All Nationalities', 'EU'], ['Discover the Top 20 Exchange Programs in Europe for a Transformative Study Abroad Experience', 'Exchange Programs', 'Ongoing', 'Europe', 'All Nationalities'], ['How to Apply US Green Card 2023', 'Exchange Programs', 'USA', 'All Nationalities'], ['AIMS AI for Science Master’s Program 2023 | Fully Funded', 'Entrepreneurship Events Exchange Programs', '08 April,2023', 'South Africa', 'All', 'AI For Science Masters'], ['Swedish Institute Creative Partnerships Program 2023 | Funded'], ['UNAOC Young Peacebuilders Program 2023 | Funded'], ['Call for Applications – The 30th Eco-generation Regional Ambassadors 2023']]\n",
      "data[i] is  ['Swedish Institute Creative Partnerships Program 2023 | Funded', 'Exchange Programs Miscellaneous', '15 February,2023', 'Sweden', 'All', 'Swedish Institute', 'si@si.se']\n",
      "data is  [['How to Get Permanent Residency in Denmark?', 'Exchange Programs', 'Ongoing', 'Denmark', 'All Nationalities'], ['How to get Australian Permanent Residency?', 'Exchange Programs', 'Ongoing', 'Australia', 'All Nationalities'], ['How to Get Canadian Permanent Resident?', 'Exchange Programs', 'Ongoing', 'Canada', 'All Nationalities'], ['European Union Exchange Programs for Students 2023', 'Exchange Programs', 'Ongoing', 'All Nationalities', 'European Union'], ['Apply Now || Explore Inspiring Career Paths 2023', 'Exchange Programs Miscellaneous', 'Ongoing', 'Hungary', 'All', 'CCG', 'info@careersinthecommongood.com'], ['Apply Now: NIMHD Health Disparities Research Institute 2023', 'Exchange Programs Miscellaneous', '13 March,2023', 'USA', 'All', 'NIMHD', 'HDRI@nih.gov'], ['List of European Union Exchange Program for Student', 'Exchange Programs', 'Ongoing', 'All Nationalities', 'EU'], ['Discover the Top 20 Exchange Programs in Europe for a Transformative Study Abroad Experience', 'Exchange Programs', 'Ongoing', 'Europe', 'All Nationalities'], ['How to Apply US Green Card 2023', 'Exchange Programs', 'USA', 'All Nationalities'], ['AIMS AI for Science Master’s Program 2023 | Fully Funded', 'Entrepreneurship Events Exchange Programs', '08 April,2023', 'South Africa', 'All', 'AI For Science Masters'], ['Swedish Institute Creative Partnerships Program 2023 | Funded', 'Exchange Programs Miscellaneous', '15 February,2023', 'Sweden', 'All', 'Swedish Institute', 'si@si.se'], ['UNAOC Young Peacebuilders Program 2023 | Funded'], ['Call for Applications – The 30th Eco-generation Regional Ambassadors 2023']]\n",
      "data[i] is  ['UNAOC Young Peacebuilders Program 2023 | Funded', 'Exchange Programs Miscellaneous', '19 February,2023', 'USA', 'All', 'UNAOC', 'contactaoc@unops.org']\n",
      "data is  [['How to Get Permanent Residency in Denmark?', 'Exchange Programs', 'Ongoing', 'Denmark', 'All Nationalities'], ['How to get Australian Permanent Residency?', 'Exchange Programs', 'Ongoing', 'Australia', 'All Nationalities'], ['How to Get Canadian Permanent Resident?', 'Exchange Programs', 'Ongoing', 'Canada', 'All Nationalities'], ['European Union Exchange Programs for Students 2023', 'Exchange Programs', 'Ongoing', 'All Nationalities', 'European Union'], ['Apply Now || Explore Inspiring Career Paths 2023', 'Exchange Programs Miscellaneous', 'Ongoing', 'Hungary', 'All', 'CCG', 'info@careersinthecommongood.com'], ['Apply Now: NIMHD Health Disparities Research Institute 2023', 'Exchange Programs Miscellaneous', '13 March,2023', 'USA', 'All', 'NIMHD', 'HDRI@nih.gov'], ['List of European Union Exchange Program for Student', 'Exchange Programs', 'Ongoing', 'All Nationalities', 'EU'], ['Discover the Top 20 Exchange Programs in Europe for a Transformative Study Abroad Experience', 'Exchange Programs', 'Ongoing', 'Europe', 'All Nationalities'], ['How to Apply US Green Card 2023', 'Exchange Programs', 'USA', 'All Nationalities'], ['AIMS AI for Science Master’s Program 2023 | Fully Funded', 'Entrepreneurship Events Exchange Programs', '08 April,2023', 'South Africa', 'All', 'AI For Science Masters'], ['Swedish Institute Creative Partnerships Program 2023 | Funded', 'Exchange Programs Miscellaneous', '15 February,2023', 'Sweden', 'All', 'Swedish Institute', 'si@si.se'], ['UNAOC Young Peacebuilders Program 2023 | Funded', 'Exchange Programs Miscellaneous', '19 February,2023', 'USA', 'All', 'UNAOC', 'contactaoc@unops.org'], ['Call for Applications – The 30th Eco-generation Regional Ambassadors 2023']]\n"
     ]
    },
    {
     "name": "stdout",
     "output_type": "stream",
     "text": [
      "data[i] is  ['Call for Applications – The 30th Eco-generation Regional Ambassadors 2023', 'Exchange Programs Miscellaneous', '01 March,2023 to 31 July,2023', '18 February,2023', 'environment, science, report, news, Ambassador program,', '', 'Open to All', 'Tunza Eco generation members between 13-24', 'Tunza Eco-generation', 'N/A', 'ecogeneration@samsung.com']\n",
      "data is  [['How to Get Permanent Residency in Denmark?', 'Exchange Programs', 'Ongoing', 'Denmark', 'All Nationalities'], ['How to get Australian Permanent Residency?', 'Exchange Programs', 'Ongoing', 'Australia', 'All Nationalities'], ['How to Get Canadian Permanent Resident?', 'Exchange Programs', 'Ongoing', 'Canada', 'All Nationalities'], ['European Union Exchange Programs for Students 2023', 'Exchange Programs', 'Ongoing', 'All Nationalities', 'European Union'], ['Apply Now || Explore Inspiring Career Paths 2023', 'Exchange Programs Miscellaneous', 'Ongoing', 'Hungary', 'All', 'CCG', 'info@careersinthecommongood.com'], ['Apply Now: NIMHD Health Disparities Research Institute 2023', 'Exchange Programs Miscellaneous', '13 March,2023', 'USA', 'All', 'NIMHD', 'HDRI@nih.gov'], ['List of European Union Exchange Program for Student', 'Exchange Programs', 'Ongoing', 'All Nationalities', 'EU'], ['Discover the Top 20 Exchange Programs in Europe for a Transformative Study Abroad Experience', 'Exchange Programs', 'Ongoing', 'Europe', 'All Nationalities'], ['How to Apply US Green Card 2023', 'Exchange Programs', 'USA', 'All Nationalities'], ['AIMS AI for Science Master’s Program 2023 | Fully Funded', 'Entrepreneurship Events Exchange Programs', '08 April,2023', 'South Africa', 'All', 'AI For Science Masters'], ['Swedish Institute Creative Partnerships Program 2023 | Funded', 'Exchange Programs Miscellaneous', '15 February,2023', 'Sweden', 'All', 'Swedish Institute', 'si@si.se'], ['UNAOC Young Peacebuilders Program 2023 | Funded', 'Exchange Programs Miscellaneous', '19 February,2023', 'USA', 'All', 'UNAOC', 'contactaoc@unops.org'], ['Call for Applications – The 30th Eco-generation Regional Ambassadors 2023', 'Exchange Programs Miscellaneous', '01 March,2023 to 31 July,2023', '18 February,2023', 'environment, science, report, news, Ambassador program,', '', 'Open to All', 'Tunza Eco generation members between 13-24', 'Tunza Eco-generation', 'N/A', 'ecogeneration@samsung.com']]\n"
     ]
    }
   ],
   "source": [
    "from selenium import webdriver\n",
    "from selenium.webdriver.support.ui import Select\n",
    "from selenium.webdriver.common.by import By\n",
    "import pandas as pd\n",
    "import time\n",
    "from selenium.webdriver.support.wait import WebDriverWait\n",
    "from selenium.webdriver.support import expected_conditions as EC\n",
    "from bs4 import BeautifulSoup\n",
    "from csv import writer\n",
    "\n",
    "\n",
    "# Topics: Locate a button, select element within dropdown and extract data from a table\n",
    "\n",
    "# define the website to scrape and path where the chromediver is located\n",
    "# website = 'https://oyaop.com/?s=&opp=Internships&ven=&submit=Search'\n",
    "website = 'https://oyaop.com/?s=&opp=Exchange+Programs&ven=&fund=&conf=&deadl=&submit=Search'\n",
    "\n",
    "# write the path here\n",
    "path = r\"C:\\Users\\ishaa\\Downloads\\chromedriver_win32\\chromedriver.exe\" \n",
    "# define 'driver' variable\n",
    "driver = webdriver.Chrome(path)\n",
    "wait = WebDriverWait(driver, 10)\n",
    "# open Google Chrome with chromedriver\n",
    "driver.get(website)\n",
    "\n",
    "\n",
    "#store all the links in a list\n",
    "item_links = [item.get_attribute(\"href\") for item in wait.until(EC.presence_of_all_elements_located((By.XPATH,'/html/body/section/div/div/div/div/div/div/div/div/a')))]\n",
    "\n",
    "opp_names = wait.until(EC.presence_of_all_elements_located((By.XPATH,'/html/body/section/div/div/div/div/div/div/div/article/div/a/h5')))\n",
    "# print(opp_names)\n",
    "# print(opp_names[0])\n",
    "# print(opp_names[0].text)\n",
    "data = []\n",
    "for opp_name in opp_names:\n",
    "    name = opp_name.text\n",
    "    row=[name]\n",
    "    data.append(row)\n",
    "#     print(name)\n",
    "i=0;\n",
    "\n",
    "with open('internships.csv', 'w', newline='', encoding = 'utf8') as f:\n",
    "    thewriter = writer(f)\n",
    "    header = ['Title','Type','Deadline','Region','Open To','Organiser','Contact US']\n",
    "    thewriter.writerow(header)\n",
    "    for item_link in item_links:    \n",
    "#         print(item_link)\n",
    "        driver.get(item_link)\n",
    "        try:\n",
    "            tbody = WebDriverWait(driver, 10).until(\n",
    "                EC.presence_of_element_located((By.XPATH, '/html/body/section[2]/div/div[1]/div/div[4]/div[2]/table')))\n",
    "            for tr in tbody.find_elements(By.XPATH,'//tr'):\n",
    "    #             row=[item.text for item in tr.find_elements(By.XPATH,'.//td')]\n",
    "                for item in tr.find_elements(By.XPATH,'.//td'):\n",
    "                    field = item.text\n",
    "                    data[i].append(field)\n",
    "            print(\"data[i] is \",data[i])\n",
    "            thewriter.writerow(data[i])       \n",
    "            print(\"data is \",data)\n",
    "        except:\n",
    "            driver.quit()\n",
    "        i = i+1\n",
    "\n",
    "driver.quit()"
   ]
  },
  {
   "cell_type": "code",
   "execution_count": null,
   "id": "37448055",
   "metadata": {},
   "outputs": [],
   "source": []
  },
  {
   "cell_type": "code",
   "execution_count": null,
   "id": "5f814ab8",
   "metadata": {},
   "outputs": [],
   "source": []
  },
  {
   "cell_type": "code",
   "execution_count": null,
   "id": "d8a7be4e",
   "metadata": {},
   "outputs": [],
   "source": []
  },
  {
   "cell_type": "code",
   "execution_count": null,
   "id": "a38c0ee4",
   "metadata": {},
   "outputs": [],
   "source": []
  }
 ],
 "metadata": {
  "kernelspec": {
   "display_name": "Python 3 (ipykernel)",
   "language": "python",
   "name": "python3"
  },
  "language_info": {
   "codemirror_mode": {
    "name": "ipython",
    "version": 3
   },
   "file_extension": ".py",
   "mimetype": "text/x-python",
   "name": "python",
   "nbconvert_exporter": "python",
   "pygments_lexer": "ipython3",
   "version": "3.11.2"
  }
 },
 "nbformat": 4,
 "nbformat_minor": 5
}
