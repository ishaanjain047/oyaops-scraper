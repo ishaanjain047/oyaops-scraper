{
 "cells": [
  {
   "cell_type": "code",
   "execution_count": 2,
   "id": "f4f7b44c",
   "metadata": {},
   "outputs": [
    {
     "name": "stderr",
     "output_type": "stream",
     "text": [
      "C:\\Users\\Public\\Documents\\Wondershare\\CreatorTemp\\ipykernel_13096\\958394495.py:15: DeprecationWarning: executable_path has been deprecated, please pass in a Service object\n",
      "  driver = webdriver.Chrome(path)\n"
     ]
    },
    {
     "name": "stdout",
     "output_type": "stream",
     "text": [
      "data[i] is  ['Employment-Based US Green Card Application || Apply Now', 'Internships', 'USA', 'All Nationalities', 'US Government']\n",
      "data is  [['Employment-Based US Green Card Application || Apply Now', 'Internships', 'USA', 'All Nationalities', 'US Government'], ['Apply to join The Assembly Creative Youth Advisory Council 2023'], ['2023 World Health Organization Paid Internship in Switzerland'], ['2023 World Food Programme Internship (US$1000 per month) in Italy'], ['Paid Internship Opportunities In the USA for Master’s Students'], ['Apply Now To Be UN Strategic & External Affairs Advisor 2023'], ['FAOU Spring Internship Program 2023 | Funded'], ['List of Internships in Japan for International Students'], ['2023 United Nations Internship in USA'], ['Moniepoint Tech Internship 2023 | Paid'], ['Wilson Center’s Middle East Program Internship 2023'], ['Paid Internships in Spain 2023 || Apply Now'], ['List of Paid Internships at Facebook']]\n",
      "data[i] is  ['Apply to join The Assembly Creative Youth Advisory Council 2023', 'Internships Miscellaneous', '14 April,2023', 'Africa', 'All', 'The Assembly Hub']\n",
      "data is  [['Employment-Based US Green Card Application || Apply Now', 'Internships', 'USA', 'All Nationalities', 'US Government'], ['Apply to join The Assembly Creative Youth Advisory Council 2023', 'Internships Miscellaneous', '14 April,2023', 'Africa', 'All', 'The Assembly Hub'], ['2023 World Health Organization Paid Internship in Switzerland'], ['2023 World Food Programme Internship (US$1000 per month) in Italy'], ['Paid Internship Opportunities In the USA for Master’s Students'], ['Apply Now To Be UN Strategic & External Affairs Advisor 2023'], ['FAOU Spring Internship Program 2023 | Funded'], ['List of Internships in Japan for International Students'], ['2023 United Nations Internship in USA'], ['Moniepoint Tech Internship 2023 | Paid'], ['Wilson Center’s Middle East Program Internship 2023'], ['Paid Internships in Spain 2023 || Apply Now'], ['List of Paid Internships at Facebook']]\n",
      "data[i] is  ['2023 World Health Organization Paid Internship in Switzerland', 'Internships', '08 April,2023', 'Switzerland', 'All Nationalities', 'World Health Organization']\n",
      "data is  [['Employment-Based US Green Card Application || Apply Now', 'Internships', 'USA', 'All Nationalities', 'US Government'], ['Apply to join The Assembly Creative Youth Advisory Council 2023', 'Internships Miscellaneous', '14 April,2023', 'Africa', 'All', 'The Assembly Hub'], ['2023 World Health Organization Paid Internship in Switzerland', 'Internships', '08 April,2023', 'Switzerland', 'All Nationalities', 'World Health Organization'], ['2023 World Food Programme Internship (US$1000 per month) in Italy'], ['Paid Internship Opportunities In the USA for Master’s Students'], ['Apply Now To Be UN Strategic & External Affairs Advisor 2023'], ['FAOU Spring Internship Program 2023 | Funded'], ['List of Internships in Japan for International Students'], ['2023 United Nations Internship in USA'], ['Moniepoint Tech Internship 2023 | Paid'], ['Wilson Center’s Middle East Program Internship 2023'], ['Paid Internships in Spain 2023 || Apply Now'], ['List of Paid Internships at Facebook']]\n",
      "data[i] is  ['2023 World Food Programme Internship (US$1000 per month) in Italy', 'Internships', '03 April,2023', 'Italy', 'All Nationalities', 'World Food Programme', '+39-06-65131']\n",
      "data is  [['Employment-Based US Green Card Application || Apply Now', 'Internships', 'USA', 'All Nationalities', 'US Government'], ['Apply to join The Assembly Creative Youth Advisory Council 2023', 'Internships Miscellaneous', '14 April,2023', 'Africa', 'All', 'The Assembly Hub'], ['2023 World Health Organization Paid Internship in Switzerland', 'Internships', '08 April,2023', 'Switzerland', 'All Nationalities', 'World Health Organization'], ['2023 World Food Programme Internship (US$1000 per month) in Italy', 'Internships', '03 April,2023', 'Italy', 'All Nationalities', 'World Food Programme', '+39-06-65131'], ['Paid Internship Opportunities In the USA for Master’s Students'], ['Apply Now To Be UN Strategic & External Affairs Advisor 2023'], ['FAOU Spring Internship Program 2023 | Funded'], ['List of Internships in Japan for International Students'], ['2023 United Nations Internship in USA'], ['Moniepoint Tech Internship 2023 | Paid'], ['Wilson Center’s Middle East Program Internship 2023'], ['Paid Internships in Spain 2023 || Apply Now'], ['List of Paid Internships at Facebook']]\n",
      "data[i] is  ['Paid Internship Opportunities In the USA for Master’s Students', 'Internships', 'Ongoing', 'USA', 'All Nationalities']\n",
      "data is  [['Employment-Based US Green Card Application || Apply Now', 'Internships', 'USA', 'All Nationalities', 'US Government'], ['Apply to join The Assembly Creative Youth Advisory Council 2023', 'Internships Miscellaneous', '14 April,2023', 'Africa', 'All', 'The Assembly Hub'], ['2023 World Health Organization Paid Internship in Switzerland', 'Internships', '08 April,2023', 'Switzerland', 'All Nationalities', 'World Health Organization'], ['2023 World Food Programme Internship (US$1000 per month) in Italy', 'Internships', '03 April,2023', 'Italy', 'All Nationalities', 'World Food Programme', '+39-06-65131'], ['Paid Internship Opportunities In the USA for Master’s Students', 'Internships', 'Ongoing', 'USA', 'All Nationalities'], ['Apply Now To Be UN Strategic & External Affairs Advisor 2023'], ['FAOU Spring Internship Program 2023 | Funded'], ['List of Internships in Japan for International Students'], ['2023 United Nations Internship in USA'], ['Moniepoint Tech Internship 2023 | Paid'], ['Wilson Center’s Middle East Program Internship 2023'], ['Paid Internships in Spain 2023 || Apply Now'], ['List of Paid Internships at Facebook']]\n",
      "data[i] is  ['Apply Now To Be UN Strategic & External Affairs Advisor 2023', 'Internships', '23 March,2023', 'UK', 'All', 'UN']\n",
      "data is  [['Employment-Based US Green Card Application || Apply Now', 'Internships', 'USA', 'All Nationalities', 'US Government'], ['Apply to join The Assembly Creative Youth Advisory Council 2023', 'Internships Miscellaneous', '14 April,2023', 'Africa', 'All', 'The Assembly Hub'], ['2023 World Health Organization Paid Internship in Switzerland', 'Internships', '08 April,2023', 'Switzerland', 'All Nationalities', 'World Health Organization'], ['2023 World Food Programme Internship (US$1000 per month) in Italy', 'Internships', '03 April,2023', 'Italy', 'All Nationalities', 'World Food Programme', '+39-06-65131'], ['Paid Internship Opportunities In the USA for Master’s Students', 'Internships', 'Ongoing', 'USA', 'All Nationalities'], ['Apply Now To Be UN Strategic & External Affairs Advisor 2023', 'Internships', '23 March,2023', 'UK', 'All', 'UN'], ['FAOU Spring Internship Program 2023 | Funded'], ['List of Internships in Japan for International Students'], ['2023 United Nations Internship in USA'], ['Moniepoint Tech Internship 2023 | Paid'], ['Wilson Center’s Middle East Program Internship 2023'], ['Paid Internships in Spain 2023 || Apply Now'], ['List of Paid Internships at Facebook']]\n",
      "data[i] is  ['FAOU Spring Internship Program 2023 | Funded', 'Internships', '30 March,2023', 'Estonia', 'All', 'Fatima Al-Fihri Open University', 'contact@alfihri.org']\n",
      "data is  [['Employment-Based US Green Card Application || Apply Now', 'Internships', 'USA', 'All Nationalities', 'US Government'], ['Apply to join The Assembly Creative Youth Advisory Council 2023', 'Internships Miscellaneous', '14 April,2023', 'Africa', 'All', 'The Assembly Hub'], ['2023 World Health Organization Paid Internship in Switzerland', 'Internships', '08 April,2023', 'Switzerland', 'All Nationalities', 'World Health Organization'], ['2023 World Food Programme Internship (US$1000 per month) in Italy', 'Internships', '03 April,2023', 'Italy', 'All Nationalities', 'World Food Programme', '+39-06-65131'], ['Paid Internship Opportunities In the USA for Master’s Students', 'Internships', 'Ongoing', 'USA', 'All Nationalities'], ['Apply Now To Be UN Strategic & External Affairs Advisor 2023', 'Internships', '23 March,2023', 'UK', 'All', 'UN'], ['FAOU Spring Internship Program 2023 | Funded', 'Internships', '30 March,2023', 'Estonia', 'All', 'Fatima Al-Fihri Open University', 'contact@alfihri.org'], ['List of Internships in Japan for International Students'], ['2023 United Nations Internship in USA'], ['Moniepoint Tech Internship 2023 | Paid'], ['Wilson Center’s Middle East Program Internship 2023'], ['Paid Internships in Spain 2023 || Apply Now'], ['List of Paid Internships at Facebook']]\n"
     ]
    },
    {
     "name": "stdout",
     "output_type": "stream",
     "text": [
      "data[i] is  ['List of Internships in Japan for International Students', 'Internships', 'Ongoing', 'Japan', 'All Nationalities']\n",
      "data is  [['Employment-Based US Green Card Application || Apply Now', 'Internships', 'USA', 'All Nationalities', 'US Government'], ['Apply to join The Assembly Creative Youth Advisory Council 2023', 'Internships Miscellaneous', '14 April,2023', 'Africa', 'All', 'The Assembly Hub'], ['2023 World Health Organization Paid Internship in Switzerland', 'Internships', '08 April,2023', 'Switzerland', 'All Nationalities', 'World Health Organization'], ['2023 World Food Programme Internship (US$1000 per month) in Italy', 'Internships', '03 April,2023', 'Italy', 'All Nationalities', 'World Food Programme', '+39-06-65131'], ['Paid Internship Opportunities In the USA for Master’s Students', 'Internships', 'Ongoing', 'USA', 'All Nationalities'], ['Apply Now To Be UN Strategic & External Affairs Advisor 2023', 'Internships', '23 March,2023', 'UK', 'All', 'UN'], ['FAOU Spring Internship Program 2023 | Funded', 'Internships', '30 March,2023', 'Estonia', 'All', 'Fatima Al-Fihri Open University', 'contact@alfihri.org'], ['List of Internships in Japan for International Students', 'Internships', 'Ongoing', 'Japan', 'All Nationalities'], ['2023 United Nations Internship in USA'], ['Moniepoint Tech Internship 2023 | Paid'], ['Wilson Center’s Middle East Program Internship 2023'], ['Paid Internships in Spain 2023 || Apply Now'], ['List of Paid Internships at Facebook']]\n",
      "data[i] is  ['2023 United Nations Internship in USA', 'Internships', '16 April,2023', 'USA', 'All Nationalities', 'UNited Nations']\n",
      "data is  [['Employment-Based US Green Card Application || Apply Now', 'Internships', 'USA', 'All Nationalities', 'US Government'], ['Apply to join The Assembly Creative Youth Advisory Council 2023', 'Internships Miscellaneous', '14 April,2023', 'Africa', 'All', 'The Assembly Hub'], ['2023 World Health Organization Paid Internship in Switzerland', 'Internships', '08 April,2023', 'Switzerland', 'All Nationalities', 'World Health Organization'], ['2023 World Food Programme Internship (US$1000 per month) in Italy', 'Internships', '03 April,2023', 'Italy', 'All Nationalities', 'World Food Programme', '+39-06-65131'], ['Paid Internship Opportunities In the USA for Master’s Students', 'Internships', 'Ongoing', 'USA', 'All Nationalities'], ['Apply Now To Be UN Strategic & External Affairs Advisor 2023', 'Internships', '23 March,2023', 'UK', 'All', 'UN'], ['FAOU Spring Internship Program 2023 | Funded', 'Internships', '30 March,2023', 'Estonia', 'All', 'Fatima Al-Fihri Open University', 'contact@alfihri.org'], ['List of Internships in Japan for International Students', 'Internships', 'Ongoing', 'Japan', 'All Nationalities'], ['2023 United Nations Internship in USA', 'Internships', '16 April,2023', 'USA', 'All Nationalities', 'UNited Nations'], ['Moniepoint Tech Internship 2023 | Paid'], ['Wilson Center’s Middle East Program Internship 2023'], ['Paid Internships in Spain 2023 || Apply Now'], ['List of Paid Internships at Facebook']]\n",
      "data[i] is  ['Moniepoint Tech Internship 2023 | Paid', 'Internships', '14 March,2023', 'Africa', 'All', 'Moniepoint']\n",
      "data is  [['Employment-Based US Green Card Application || Apply Now', 'Internships', 'USA', 'All Nationalities', 'US Government'], ['Apply to join The Assembly Creative Youth Advisory Council 2023', 'Internships Miscellaneous', '14 April,2023', 'Africa', 'All', 'The Assembly Hub'], ['2023 World Health Organization Paid Internship in Switzerland', 'Internships', '08 April,2023', 'Switzerland', 'All Nationalities', 'World Health Organization'], ['2023 World Food Programme Internship (US$1000 per month) in Italy', 'Internships', '03 April,2023', 'Italy', 'All Nationalities', 'World Food Programme', '+39-06-65131'], ['Paid Internship Opportunities In the USA for Master’s Students', 'Internships', 'Ongoing', 'USA', 'All Nationalities'], ['Apply Now To Be UN Strategic & External Affairs Advisor 2023', 'Internships', '23 March,2023', 'UK', 'All', 'UN'], ['FAOU Spring Internship Program 2023 | Funded', 'Internships', '30 March,2023', 'Estonia', 'All', 'Fatima Al-Fihri Open University', 'contact@alfihri.org'], ['List of Internships in Japan for International Students', 'Internships', 'Ongoing', 'Japan', 'All Nationalities'], ['2023 United Nations Internship in USA', 'Internships', '16 April,2023', 'USA', 'All Nationalities', 'UNited Nations'], ['Moniepoint Tech Internship 2023 | Paid', 'Internships', '14 March,2023', 'Africa', 'All', 'Moniepoint'], ['Wilson Center’s Middle East Program Internship 2023'], ['Paid Internships in Spain 2023 || Apply Now'], ['List of Paid Internships at Facebook']]\n",
      "data[i] is  ['Wilson Center’s Middle East Program Internship 2023', 'Internships', '15 March,2023', 'USA', 'All', 'Wilson Center', 'mep@wilsoncenter.org']\n",
      "data is  [['Employment-Based US Green Card Application || Apply Now', 'Internships', 'USA', 'All Nationalities', 'US Government'], ['Apply to join The Assembly Creative Youth Advisory Council 2023', 'Internships Miscellaneous', '14 April,2023', 'Africa', 'All', 'The Assembly Hub'], ['2023 World Health Organization Paid Internship in Switzerland', 'Internships', '08 April,2023', 'Switzerland', 'All Nationalities', 'World Health Organization'], ['2023 World Food Programme Internship (US$1000 per month) in Italy', 'Internships', '03 April,2023', 'Italy', 'All Nationalities', 'World Food Programme', '+39-06-65131'], ['Paid Internship Opportunities In the USA for Master’s Students', 'Internships', 'Ongoing', 'USA', 'All Nationalities'], ['Apply Now To Be UN Strategic & External Affairs Advisor 2023', 'Internships', '23 March,2023', 'UK', 'All', 'UN'], ['FAOU Spring Internship Program 2023 | Funded', 'Internships', '30 March,2023', 'Estonia', 'All', 'Fatima Al-Fihri Open University', 'contact@alfihri.org'], ['List of Internships in Japan for International Students', 'Internships', 'Ongoing', 'Japan', 'All Nationalities'], ['2023 United Nations Internship in USA', 'Internships', '16 April,2023', 'USA', 'All Nationalities', 'UNited Nations'], ['Moniepoint Tech Internship 2023 | Paid', 'Internships', '14 March,2023', 'Africa', 'All', 'Moniepoint'], ['Wilson Center’s Middle East Program Internship 2023', 'Internships', '15 March,2023', 'USA', 'All', 'Wilson Center', 'mep@wilsoncenter.org'], ['Paid Internships in Spain 2023 || Apply Now'], ['List of Paid Internships at Facebook']]\n",
      "data[i] is  ['Paid Internships in Spain 2023 || Apply Now', 'Internships', 'Ongoing', 'Spain', 'All Nationalities']\n",
      "data is  [['Employment-Based US Green Card Application || Apply Now', 'Internships', 'USA', 'All Nationalities', 'US Government'], ['Apply to join The Assembly Creative Youth Advisory Council 2023', 'Internships Miscellaneous', '14 April,2023', 'Africa', 'All', 'The Assembly Hub'], ['2023 World Health Organization Paid Internship in Switzerland', 'Internships', '08 April,2023', 'Switzerland', 'All Nationalities', 'World Health Organization'], ['2023 World Food Programme Internship (US$1000 per month) in Italy', 'Internships', '03 April,2023', 'Italy', 'All Nationalities', 'World Food Programme', '+39-06-65131'], ['Paid Internship Opportunities In the USA for Master’s Students', 'Internships', 'Ongoing', 'USA', 'All Nationalities'], ['Apply Now To Be UN Strategic & External Affairs Advisor 2023', 'Internships', '23 March,2023', 'UK', 'All', 'UN'], ['FAOU Spring Internship Program 2023 | Funded', 'Internships', '30 March,2023', 'Estonia', 'All', 'Fatima Al-Fihri Open University', 'contact@alfihri.org'], ['List of Internships in Japan for International Students', 'Internships', 'Ongoing', 'Japan', 'All Nationalities'], ['2023 United Nations Internship in USA', 'Internships', '16 April,2023', 'USA', 'All Nationalities', 'UNited Nations'], ['Moniepoint Tech Internship 2023 | Paid', 'Internships', '14 March,2023', 'Africa', 'All', 'Moniepoint'], ['Wilson Center’s Middle East Program Internship 2023', 'Internships', '15 March,2023', 'USA', 'All', 'Wilson Center', 'mep@wilsoncenter.org'], ['Paid Internships in Spain 2023 || Apply Now', 'Internships', 'Ongoing', 'Spain', 'All Nationalities'], ['List of Paid Internships at Facebook']]\n"
     ]
    },
    {
     "name": "stdout",
     "output_type": "stream",
     "text": [
      "data[i] is  ['List of Paid Internships at Facebook', 'Internships', 'USA', 'All Nationalities']\n",
      "data is  [['Employment-Based US Green Card Application || Apply Now', 'Internships', 'USA', 'All Nationalities', 'US Government'], ['Apply to join The Assembly Creative Youth Advisory Council 2023', 'Internships Miscellaneous', '14 April,2023', 'Africa', 'All', 'The Assembly Hub'], ['2023 World Health Organization Paid Internship in Switzerland', 'Internships', '08 April,2023', 'Switzerland', 'All Nationalities', 'World Health Organization'], ['2023 World Food Programme Internship (US$1000 per month) in Italy', 'Internships', '03 April,2023', 'Italy', 'All Nationalities', 'World Food Programme', '+39-06-65131'], ['Paid Internship Opportunities In the USA for Master’s Students', 'Internships', 'Ongoing', 'USA', 'All Nationalities'], ['Apply Now To Be UN Strategic & External Affairs Advisor 2023', 'Internships', '23 March,2023', 'UK', 'All', 'UN'], ['FAOU Spring Internship Program 2023 | Funded', 'Internships', '30 March,2023', 'Estonia', 'All', 'Fatima Al-Fihri Open University', 'contact@alfihri.org'], ['List of Internships in Japan for International Students', 'Internships', 'Ongoing', 'Japan', 'All Nationalities'], ['2023 United Nations Internship in USA', 'Internships', '16 April,2023', 'USA', 'All Nationalities', 'UNited Nations'], ['Moniepoint Tech Internship 2023 | Paid', 'Internships', '14 March,2023', 'Africa', 'All', 'Moniepoint'], ['Wilson Center’s Middle East Program Internship 2023', 'Internships', '15 March,2023', 'USA', 'All', 'Wilson Center', 'mep@wilsoncenter.org'], ['Paid Internships in Spain 2023 || Apply Now', 'Internships', 'Ongoing', 'Spain', 'All Nationalities'], ['List of Paid Internships at Facebook', 'Internships', 'USA', 'All Nationalities']]\n"
     ]
    }
   ],
   "source": [
    "from selenium import webdriver\n",
    "from selenium.webdriver.support.ui import Select\n",
    "from selenium.webdriver.common.by import By\n",
    "import pandas as pd\n",
    "import time\n",
    "from selenium.webdriver.support.wait import WebDriverWait\n",
    "from selenium.webdriver.support import expected_conditions as EC\n",
    "from bs4 import BeautifulSoup\n",
    "from csv import writer\n",
    "\n",
    "website = 'https://oyaop.com/?s=&opp=Internships&ven=&submit=Search'\n",
    "# website = 'https://oyaop.com/?s=&opp=Exchange+Programs&ven=&fund=&conf=&deadl=&submit=Search'\n",
    "\n",
    "path = r\"C:\\Users\\ishaa\\Downloads\\chromedriver_win32\\chromedriver.exe\" \n",
    "driver = webdriver.Chrome(path)\n",
    "wait = WebDriverWait(driver, 10)\n",
    "driver.get(website)\n",
    "\n",
    "\n",
    "\n",
    "opp_names = wait.until(EC.presence_of_all_elements_located((By.XPATH,'/html/body/section/div/div/div/div/div/div/div/article/div/a/h5')))\n",
    "data = []\n",
    "for opp_name in opp_names:\n",
    "    name = opp_name.text\n",
    "    row=[name]\n",
    "    data.append(row)\n",
    "i=0;\n",
    "\n",
    "item_links = [item.get_attribute(\"href\") for item in wait.until(EC.presence_of_all_elements_located((By.XPATH,'/html/body/section/div/div/div/div/div/div/div/div/a')))]\n",
    "# pages_nav = wait.until(EC.presence_of_all_elements_located((By.XPATH,'/html/body/section[2]/div/div[1]/div/div[2]/div[2]/ul/li')))\n",
    "# len_nav = len(pages_nav)\n",
    "# url = '/html/body/section[2]/div/div[1]/div/div[2]/div[2]/ul/li[{0}'.format(len_nav)\n",
    "# url = url + ']/a'\n",
    "# next_link_a = wait.until(EC.presence_of_all_elements_located((By.XPATH,url)))\n",
    "# next_link_arr = [elem.get_attribute('href') for elem in next_link_a]\n",
    "# next_link = next_link_arr[0]\n",
    "# print(\"next_link is \",next_link)\n",
    "\n",
    "with open('internships.csv', 'w', newline='', encoding = 'utf8') as f:\n",
    "    thewriter = writer(f)\n",
    "    header = ['Title','Type','Deadline','Region','Open To','Organiser','Contact US','Official Link','Tags']\n",
    "    thewriter.writerow(header)\n",
    "    for item_link in item_links:    \n",
    "#         print(item_link)\n",
    "        driver.get(item_link)\n",
    "        try:\n",
    "            tbody = WebDriverWait(driver, 10).until(\n",
    "                EC.presence_of_element_located((By.XPATH, '/html/body/section[2]/div/div[1]/div/div[4]/div[2]/table')))\n",
    "            for tr in tbody.find_elements(By.XPATH,'//tr'):\n",
    "    #             row=[item.text for item in tr.find_elements(By.XPATH,'.//td')]\n",
    "                for item in tr.find_elements(By.XPATH,'.//td'):\n",
    "                    field = item.text\n",
    "                    data[i].append(field)\n",
    "#           getting tags of all internships\n",
    "            print(\"data[i] is \",data[i])\n",
    "#             offcial_link_a = wait.until(EC.presence_of_element_located((By.XPATH,'/html/body/section[2]/div/div[1]/div/div[5]/a')))\n",
    "#             print(official_link_a)\n",
    "#             official_link = official_link_a.getAttribute(\"href\");\n",
    "#             print(official_link)\n",
    "            thewriter.writerow(data[i])       \n",
    "            print(\"data is \",data)\n",
    "        except:\n",
    "            driver.quit()\n",
    "        i = i+1\n",
    "\n",
    "driver.quit()"
   ]
  },
  {
   "cell_type": "code",
   "execution_count": null,
   "id": "1ee3ef0f",
   "metadata": {},
   "outputs": [],
   "source": []
  }
 ],
 "metadata": {
  "kernelspec": {
   "display_name": "Python 3 (ipykernel)",
   "language": "python",
   "name": "python3"
  },
  "language_info": {
   "codemirror_mode": {
    "name": "ipython",
    "version": 3
   },
   "file_extension": ".py",
   "mimetype": "text/x-python",
   "name": "python",
   "nbconvert_exporter": "python",
   "pygments_lexer": "ipython3",
   "version": "3.11.2"
  }
 },
 "nbformat": 4,
 "nbformat_minor": 5
}
